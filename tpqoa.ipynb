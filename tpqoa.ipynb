{
 "cells": [
  {
   "cell_type": "markdown",
   "metadata": {
    "slideshow": {
     "slide_type": "slide"
    }
   },
   "source": [
    "<img src=\"http://hilpisch.com/tpq_logo.png\" alt=\"The Python Quants\" width=\"35%\" align=\"right\" border=\"0\"><br>"
   ]
  },
  {
   "cell_type": "markdown",
   "metadata": {},
   "source": [
    "# tpqoa"
   ]
  },
  {
   "cell_type": "markdown",
   "metadata": {},
   "source": [
    "## Algorithmic Trading with Oanda"
   ]
  },
  {
   "cell_type": "markdown",
   "metadata": {},
   "source": [
    "`tpqoa` is a wrapper class for the Oanda REST API v20 (http://developer.oanda.com/). It makes use of the Python package `v20` from Oanda (https://github.com/oanda/v20-python). The package is authored and maintained by The Python Quants GmbH. &copy; Dr. Yves J. Hilpisch. MIT License."
   ]
  },
  {
   "cell_type": "markdown",
   "metadata": {},
   "source": [
    "## Disclaimer"
   ]
  },
  {
   "cell_type": "markdown",
   "metadata": {},
   "source": [
    "Trading forex/CFDs on margin carries a high level of risk and may not be suitable for all investors as you could sustain losses in excess of deposits. Leverage can work against you. Due to the certain restrictions imposed by the local law and regulation, German resident retail client(s) could sustain a total loss of deposited funds but are not subject to subsequent payment obligations beyond the deposited funds. Be aware and fully understand all risks associated with the market and trading. Prior to trading any products, carefully consider your financial situation and experience level. Any opinions, news, research, analyses, prices, code examples or other information is provided as general market commentary, and does not constitute investment advice. The Python Quants GmbH will not accept liability for any loss or damage, including without limitation to, any loss of profit, which may arise directly or indirectly from use of or reliance on such information.\n",
    "\n",
    "The `tpqoa` package is intended as a technological illustration only. It comes with no warranties or representations, to the extent permitted by applicable law."
   ]
  },
  {
   "cell_type": "markdown",
   "metadata": {},
   "source": [
    "## Installation"
   ]
  },
  {
   "cell_type": "markdown",
   "metadata": {},
   "source": [
    "Installing from source via `Git` and `Github`:\n",
    "\n",
    "    git clone https://github.com/yhilpisch/tpqoa\n",
    "    cd tpqoa\n",
    "    python setup.py install\n",
    "    \n",
    "Using `pip` in combination with `Github`:\n",
    "\n",
    "    pip install git+git://github.com/yhilpisch/tpqoa\n",
    "\n",
    "Using `pip` directly:\n",
    "\n",
    "    pip install --index-url https://test.pypi.org/simple/ tpqoa"
   ]
  },
  {
   "cell_type": "markdown",
   "metadata": {},
   "source": [
    "## Connection"
   ]
  },
  {
   "cell_type": "markdown",
   "metadata": {},
   "source": [
    "In order to connect to the API, you need to have at least a practice account with Oanda (https://oanda.com/). Once logged in to you account, you can create an API token and can copy your account number. These are expected to be stored in a configuration file, with name `oanda.cfg`, for instance, as follows:\n",
    "\n",
    "    [oanda]\n",
    "    account_id = XYZ-ABC-...\n",
    "    access_token = ZYXCAB...\n",
    "    account_type = practice (default) or live"
   ]
  },
  {
   "cell_type": "markdown",
   "metadata": {},
   "source": [
    "You can then set up an API connection by instantiating a connection object."
   ]
  },
  {
   "cell_type": "code",
   "execution_count": 1,
   "metadata": {},
   "outputs": [],
   "source": [
    "from tpqoa import tpqoa"
   ]
  },
  {
   "cell_type": "code",
   "execution_count": 2,
   "metadata": {},
   "outputs": [],
   "source": [
    "oanda = tpqoa('oanda.cfg')"
   ]
  },
  {
   "cell_type": "markdown",
   "metadata": {},
   "source": [
    "## Available Instruments"
   ]
  },
  {
   "cell_type": "markdown",
   "metadata": {},
   "source": [
    "The `get_instruments()` method retrieves all available instruments."
   ]
  },
  {
   "cell_type": "code",
   "execution_count": 3,
   "metadata": {},
   "outputs": [],
   "source": [
    "ins = oanda.get_instruments()"
   ]
  },
  {
   "cell_type": "code",
   "execution_count": 4,
   "metadata": {},
   "outputs": [
    {
     "data": {
      "text/plain": [
       "[('USD/DKK', 'USD_DKK'),\n",
       " ('CAD/HKD', 'CAD_HKD'),\n",
       " ('AUD/CHF', 'AUD_CHF'),\n",
       " ('Silver/CAD', 'XAG_CAD'),\n",
       " ('AUD/NZD', 'AUD_NZD'),\n",
       " ('USD/CAD', 'USD_CAD'),\n",
       " ('AUD/JPY', 'AUD_JPY'),\n",
       " ('USD/JPY', 'USD_JPY'),\n",
       " ('EUR/TRY', 'EUR_TRY'),\n",
       " ('USD/CZK', 'USD_CZK')]"
      ]
     },
     "execution_count": 4,
     "metadata": {},
     "output_type": "execute_result"
    }
   ],
   "source": [
    "ins[:10]"
   ]
  },
  {
   "cell_type": "markdown",
   "metadata": {},
   "source": [
    "## Historical Data"
   ]
  },
  {
   "cell_type": "markdown",
   "metadata": {},
   "source": [
    "The `get_history()` method retrieves historical data."
   ]
  },
  {
   "cell_type": "code",
   "execution_count": 5,
   "metadata": {},
   "outputs": [
    {
     "name": "stdout",
     "output_type": "stream",
     "text": [
      "Help on method get_history in module tpqoa.tpqoa:\n",
      "\n",
      "get_history(instrument, start, end, granularity, price) method of tpqoa.tpqoa.tpqoa instance\n",
      "    Retrieves historical data for instrument.\n",
      "    \n",
      "    Parameters\n",
      "    ==========\n",
      "    instrument: string\n",
      "        valid instrument name\n",
      "    start, end: datetime, str\n",
      "        Python datetime or string objects for start and end\n",
      "    granularity: string\n",
      "        a string like 'S5', 'M1' or 'D'\n",
      "    price: string\n",
      "        one of 'A' (ask) or 'B' (bid)\n",
      "    \n",
      "    Returns\n",
      "    =======\n",
      "    data: pd.DataFrame\n",
      "        pandas DataFrame object with data\n",
      "\n"
     ]
    }
   ],
   "source": [
    "help(oanda.get_history)"
   ]
  },
  {
   "cell_type": "code",
   "execution_count": 6,
   "metadata": {},
   "outputs": [],
   "source": [
    "data = oanda.get_history(instrument='EUR_USD',\n",
    "                  start='2018-01-01',\n",
    "                  end='2018-08-09',\n",
    "                  granularity='D',\n",
    "                  price='A')"
   ]
  },
  {
   "cell_type": "code",
   "execution_count": 7,
   "metadata": {},
   "outputs": [
    {
     "name": "stdout",
     "output_type": "stream",
     "text": [
      "<class 'pandas.core.frame.DataFrame'>\n",
      "DatetimeIndex: 158 entries, 2018-01-01 22:00:00 to 2018-08-08 21:00:00\n",
      "Data columns (total 6 columns):\n",
      "c           158 non-null float64\n",
      "complete    158 non-null bool\n",
      "h           158 non-null float64\n",
      "l           158 non-null float64\n",
      "o           158 non-null float64\n",
      "volume      158 non-null int64\n",
      "dtypes: bool(1), float64(4), int64(1)\n",
      "memory usage: 7.6 KB\n"
     ]
    }
   ],
   "source": [
    "data.info()"
   ]
  },
  {
   "cell_type": "code",
   "execution_count": 8,
   "metadata": {},
   "outputs": [
    {
     "name": "stdout",
     "output_type": "stream",
     "text": [
      "                           c  complete        h        l        o  volume\n",
      "time                                                                     \n",
      "2018-01-01 22:00:00  1.20608      True  1.20822  1.20047  1.20082  110228\n",
      "2018-01-02 22:00:00  1.20165      True  1.20668  1.20017  1.20620  103380\n",
      "2018-01-03 22:00:00  1.20710      True  1.20898  1.20050  1.20162  118537\n",
      "2018-01-04 22:00:00  1.20326      True  1.20846  1.20210  1.20693  112728\n",
      "2018-01-07 22:00:00  1.19699      True  1.20531  1.19564  1.20310   96212\n"
     ]
    }
   ],
   "source": [
    "print(data.head())"
   ]
  },
  {
   "cell_type": "markdown",
   "metadata": {},
   "source": [
    "## Streaming Data"
   ]
  },
  {
   "cell_type": "markdown",
   "metadata": {},
   "source": [
    "The method `stream_data()` allows the streaming of real-time data (bid & ask)."
   ]
  },
  {
   "cell_type": "code",
   "execution_count": 9,
   "metadata": {},
   "outputs": [
    {
     "name": "stdout",
     "output_type": "stream",
     "text": [
      "2018-12-27T11:54:07.261399703Z 1.13917 1.1393\n",
      "2018-12-27T11:54:18.934431940Z 1.13914 1.13928\n",
      "2018-12-27T11:54:19.122899358Z 1.13912 1.13927\n"
     ]
    }
   ],
   "source": [
    "oanda.stream_data('EUR_USD', stop=3)"
   ]
  },
  {
   "cell_type": "markdown",
   "metadata": {},
   "source": [
    "By redefining the `on_success()` method, you can control what happes with the streaming data."
   ]
  },
  {
   "cell_type": "code",
   "execution_count": 10,
   "metadata": {},
   "outputs": [],
   "source": [
    "class myOanda(tpqoa):\n",
    "    def on_success(self, time, bid, ask):\n",
    "        ''' Method called when new data is retrieved. '''\n",
    "        print('BID: {:.5f} | ASK: {:.5f}'.format(bid, ask))"
   ]
  },
  {
   "cell_type": "code",
   "execution_count": 11,
   "metadata": {},
   "outputs": [],
   "source": [
    "my_oanda = myOanda('oanda.cfg')"
   ]
  },
  {
   "cell_type": "code",
   "execution_count": 12,
   "metadata": {},
   "outputs": [
    {
     "name": "stdout",
     "output_type": "stream",
     "text": [
      "BID: 1.13912 | ASK: 1.13926\n",
      "BID: 1.13913 | ASK: 1.13927\n",
      "BID: 1.13913 | ASK: 1.13926\n",
      "BID: 1.13912 | ASK: 1.13926\n",
      "BID: 1.13913 | ASK: 1.13927\n",
      "BID: 1.13912 | ASK: 1.13926\n",
      "BID: 1.13911 | ASK: 1.13924\n"
     ]
    }
   ],
   "source": [
    "my_oanda.stream_data('EUR_USD', stop=7)"
   ]
  },
  {
   "cell_type": "markdown",
   "metadata": {},
   "source": [
    "## Other Methods"
   ]
  },
  {
   "cell_type": "markdown",
   "metadata": {},
   "source": [
    "Other major methods are:"
   ]
  },
  {
   "cell_type": "code",
   "execution_count": 13,
   "metadata": {},
   "outputs": [
    {
     "name": "stdout",
     "output_type": "stream",
     "text": [
      "Help on method create_order in module tpqoa.tpqoa:\n",
      "\n",
      "create_order(instrument, units) method of tpqoa.tpqoa.tpqoa instance\n",
      "    Places order with Oanda.\n",
      "    \n",
      "    Parameters\n",
      "    ==========\n",
      "    instrument: string\n",
      "        valid instrument name\n",
      "    units: int\n",
      "        number of units of instrument to be bought\n",
      "        (positive int, eg 'units=50')\n",
      "        or to be sold (negative int, eg 'units=-100')\n",
      "\n"
     ]
    }
   ],
   "source": [
    "help(oanda.create_order)"
   ]
  },
  {
   "cell_type": "code",
   "execution_count": 14,
   "metadata": {},
   "outputs": [
    {
     "name": "stdout",
     "output_type": "stream",
     "text": [
      "Help on method get_transactions in module tpqoa.tpqoa:\n",
      "\n",
      "get_transactions(tid=0) method of tpqoa.tpqoa.tpqoa instance\n",
      "    Retrieves and returns transactions data.\n",
      "\n"
     ]
    }
   ],
   "source": [
    "help(oanda.get_transactions)"
   ]
  },
  {
   "cell_type": "code",
   "execution_count": 15,
   "metadata": {},
   "outputs": [
    {
     "name": "stdout",
     "output_type": "stream",
     "text": [
      "Help on method get_account_summary in module tpqoa.tpqoa:\n",
      "\n",
      "get_account_summary(detailed=False) method of tpqoa.tpqoa.tpqoa instance\n",
      "    Returns summary data for Oanda account.\n",
      "\n"
     ]
    }
   ],
   "source": [
    "help(oanda.get_account_summary)"
   ]
  },
  {
   "cell_type": "markdown",
   "metadata": {
    "slideshow": {
     "slide_type": "slide"
    }
   },
   "source": [
    "<img src=\"http://hilpisch.com/tpq_logo.png\" alt=\"The Python Quants\" width=\"35%\" align=\"right\" border=\"0\"><br>\n",
    "\n",
    "<a href=\"http://tpq.io\" target=\"_blank\">http://tpq.io</a> | <a href=\"http://twitter.com/dyjh\" target=\"_blank\">@dyjh</a> | <a href=\"mailto:training@tpq.io\">training@tpq.io</a>"
   ]
  }
 ],
 "metadata": {
  "anaconda-cloud": {},
  "kernelspec": {
   "display_name": "Python 3",
   "language": "python",
   "name": "python3"
  },
  "language_info": {
   "codemirror_mode": {
    "name": "ipython",
    "version": 3
   },
   "file_extension": ".py",
   "mimetype": "text/x-python",
   "name": "python",
   "nbconvert_exporter": "python",
   "pygments_lexer": "ipython3",
   "version": "3.6.7"
  }
 },
 "nbformat": 4,
 "nbformat_minor": 1
}
