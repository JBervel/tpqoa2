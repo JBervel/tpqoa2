{
 "cells": [
  {
   "cell_type": "markdown",
   "metadata": {
    "slideshow": {
     "slide_type": "slide"
    }
   },
   "source": [
    "<img src=\"http://hilpisch.com/tpq_logo.png\" alt=\"The Python Quants\" width=\"35%\" align=\"right\" border=\"0\"><br>"
   ]
  },
  {
   "cell_type": "markdown",
   "metadata": {},
   "source": [
    "# tpqoa"
   ]
  },
  {
   "cell_type": "markdown",
   "metadata": {},
   "source": [
    "## Algorithmic Trading with Oanda"
   ]
  },
  {
   "cell_type": "markdown",
   "metadata": {},
   "source": [
    "`tpqoa` is a wrapper class for the Oanda REST API v20 (http://developer.oanda.com/). It makes use of the Python package `v20` from Oanda (https://github.com/oanda/v20-python). The package is authored and maintained by The Python Quants GmbH. &copy; Dr. Yves J. Hilpisch. MIT License."
   ]
  },
  {
   "cell_type": "markdown",
   "metadata": {},
   "source": [
    "## Disclaimer"
   ]
  },
  {
   "cell_type": "markdown",
   "metadata": {},
   "source": [
    "Trading forex/CFDs on margin carries a high level of risk and may not be suitable for all investors as you could sustain losses in excess of deposits. Leverage can work against you. Due to the certain restrictions imposed by the local law and regulation, German resident retail client(s) could sustain a total loss of deposited funds but are not subject to subsequent payment obligations beyond the deposited funds. Be aware and fully understand all risks associated with the market and trading. Prior to trading any products, carefully consider your financial situation and experience level. Any opinions, news, research, analyses, prices, code examples or other information is provided as general market commentary, and does not constitute investment advice. The Python Quants GmbH will not accept liability for any loss or damage, including without limitation to, any loss of profit, which may arise directly or indirectly from use of or reliance on such information.\n",
    "\n",
    "The `tpqoa` package is intended as a technological illustration only. It comes with no warranties or representations, to the extent permitted by applicable law."
   ]
  },
  {
   "cell_type": "markdown",
   "metadata": {},
   "source": [
    "## Installation"
   ]
  },
  {
   "cell_type": "markdown",
   "metadata": {},
   "source": [
    "Installing from source via `Git` and `Github`:\n",
    "\n",
    "    git clone https://github.com/yhilpisch/tpqoa\n",
    "    cd tpqoa\n",
    "    python setup.py install\n",
    "    \n",
    "Using `pip` in combination with `Github`:\n",
    "\n",
    "    pip install git+git://github.com/yhilpisch/tpqoa\n",
    "\n",
    "Using `pip` directly:\n",
    "\n",
    "    pip install --index-url https://test.pypi.org/simple/ tpqoa"
   ]
  },
  {
   "cell_type": "markdown",
   "metadata": {},
   "source": [
    "## Connection"
   ]
  },
  {
   "cell_type": "markdown",
   "metadata": {},
   "source": [
    "In order to connect to the API, you need to have at least a practice account with Oanda (https://oanda.com/). Once logged in to you account, you can create an API token and can copy your account number. These are expected to be stored in a configuration file, with name `oanda.cfg`, for instance, as follows:\n",
    "\n",
    "    [oanda]\n",
    "    account_id = XYZ-ABC-...\n",
    "    access_token = ZYXCAB...\n",
    "    account_type = practice (default) or live"
   ]
  },
  {
   "cell_type": "markdown",
   "metadata": {},
   "source": [
    "You can then set up an API connection by instantiating a connection object."
   ]
  },
  {
   "cell_type": "code",
   "execution_count": 1,
   "metadata": {},
   "outputs": [],
   "source": [
    "import tpqoa"
   ]
  },
  {
   "cell_type": "code",
   "execution_count": 2,
   "metadata": {},
   "outputs": [],
   "source": [
    "oanda = tpqoa.tpqoa('oanda.cfg')"
   ]
  },
  {
   "cell_type": "markdown",
   "metadata": {},
   "source": [
    "## Available Instruments"
   ]
  },
  {
   "cell_type": "markdown",
   "metadata": {},
   "source": [
    "The `get_instruments()` method retrieves all available instruments."
   ]
  },
  {
   "cell_type": "code",
   "execution_count": 3,
   "metadata": {},
   "outputs": [],
   "source": [
    "ins = oanda.get_instruments()"
   ]
  },
  {
   "cell_type": "code",
   "execution_count": 4,
   "metadata": {},
   "outputs": [
    {
     "data": {
      "text/plain": [
       "[('USD/CNH', 'USD_CNH'),\n",
       " ('Gold/CAD', 'XAU_CAD'),\n",
       " ('US 2Y T-Note', 'USB02Y_USD'),\n",
       " ('India 50', 'IN50_USD'),\n",
       " ('Gold/AUD', 'XAU_AUD'),\n",
       " ('EUR/HKD', 'EUR_HKD'),\n",
       " ('Silver/HKD', 'XAG_HKD'),\n",
       " ('Silver/AUD', 'XAG_AUD'),\n",
       " ('Japan 225', 'JP225_USD'),\n",
       " ('US SPX 500', 'SPX500_USD')]"
      ]
     },
     "execution_count": 4,
     "metadata": {},
     "output_type": "execute_result"
    }
   ],
   "source": [
    "ins[:10]"
   ]
  },
  {
   "cell_type": "markdown",
   "metadata": {},
   "source": [
    "## Historical Data"
   ]
  },
  {
   "cell_type": "markdown",
   "metadata": {},
   "source": [
    "The `get_history()` method retrieves historical data."
   ]
  },
  {
   "cell_type": "code",
   "execution_count": 5,
   "metadata": {},
   "outputs": [
    {
     "name": "stdout",
     "output_type": "stream",
     "text": [
      "Help on method get_history in module tpqoa.tpqoa:\n",
      "\n",
      "get_history(instrument, start, end, granularity, price) method of tpqoa.tpqoa.tpqoa instance\n",
      "    Retrieves historical data for instrument.\n",
      "    \n",
      "    Parameters\n",
      "    ==========\n",
      "    instrument: string\n",
      "        valid instrument name\n",
      "    start, end: datetime, str\n",
      "        Python datetime or string objects for start and end\n",
      "    granularity: string\n",
      "        a string like 'S5', 'M1' or 'D'\n",
      "    price: string\n",
      "        one of 'A' (ask) or 'B' (bid)\n",
      "    \n",
      "    Returns\n",
      "    =======\n",
      "    data: pd.DataFrame\n",
      "        pandas DataFrame object with data\n",
      "\n"
     ]
    }
   ],
   "source": [
    "help(oanda.get_history)"
   ]
  },
  {
   "cell_type": "code",
   "execution_count": 6,
   "metadata": {},
   "outputs": [],
   "source": [
    "data = oanda.get_history(instrument='EUR_USD',\n",
    "                  start='2018-01-01',\n",
    "                  end='2018-08-09',\n",
    "                  granularity='D',\n",
    "                  price='A')"
   ]
  },
  {
   "cell_type": "code",
   "execution_count": 7,
   "metadata": {},
   "outputs": [
    {
     "name": "stdout",
     "output_type": "stream",
     "text": [
      "<class 'pandas.core.frame.DataFrame'>\n",
      "DatetimeIndex: 158 entries, 2018-01-01 22:00:00 to 2018-08-08 21:00:00\n",
      "Data columns (total 6 columns):\n",
      "c           158 non-null float64\n",
      "complete    158 non-null bool\n",
      "h           158 non-null float64\n",
      "l           158 non-null float64\n",
      "o           158 non-null float64\n",
      "volume      158 non-null int64\n",
      "dtypes: bool(1), float64(4), int64(1)\n",
      "memory usage: 7.6 KB\n"
     ]
    }
   ],
   "source": [
    "data.info()"
   ]
  },
  {
   "cell_type": "code",
   "execution_count": 8,
   "metadata": {},
   "outputs": [
    {
     "name": "stdout",
     "output_type": "stream",
     "text": [
      "                           c complete        h        l        o  volume\n",
      "time                                                                    \n",
      "2018-01-01 22:00:00  1.20610     True  1.20819  1.20051  1.20101   35630\n",
      "2018-01-02 22:00:00  1.20170     True  1.20673  1.20018  1.20620   31354\n",
      "2018-01-03 22:00:00  1.20710     True  1.20897  1.20049  1.20170   35187\n",
      "2018-01-04 22:00:00  1.20327     True  1.20847  1.20215  1.20692   36478\n",
      "2018-01-07 22:00:00  1.19717     True  1.20530  1.19564  1.20301   27618\n"
     ]
    }
   ],
   "source": [
    "print(data.head())"
   ]
  },
  {
   "cell_type": "markdown",
   "metadata": {},
   "source": [
    "## Streaming Data"
   ]
  },
  {
   "cell_type": "markdown",
   "metadata": {},
   "source": [
    "The method `stream_data()` allows the streaming of real-time data (bid & ask)."
   ]
  },
  {
   "cell_type": "code",
   "execution_count": 9,
   "metadata": {},
   "outputs": [
    {
     "name": "stdout",
     "output_type": "stream",
     "text": [
      "2019-01-18T08:27:48.293661969Z 1.13965 1.13977\n",
      "2019-01-18T08:27:53.849941883Z 1.13968 1.1398\n",
      "2019-01-18T08:27:54.944929674Z 1.13967 1.1398\n"
     ]
    }
   ],
   "source": [
    "oanda.stream_data('EUR_USD', stop=3)"
   ]
  },
  {
   "cell_type": "markdown",
   "metadata": {},
   "source": [
    "By redefining the `on_success()` method, you can control what happes with the streaming data."
   ]
  },
  {
   "cell_type": "code",
   "execution_count": 10,
   "metadata": {},
   "outputs": [],
   "source": [
    "class myOanda(tpqoa.tpqoa):\n",
    "    def on_success(self, time, bid, ask):\n",
    "        ''' Method called when new data is retrieved. '''\n",
    "        print('BID: {:.5f} | ASK: {:.5f}'.format(bid, ask))"
   ]
  },
  {
   "cell_type": "code",
   "execution_count": 11,
   "metadata": {},
   "outputs": [],
   "source": [
    "my_oanda = myOanda('oanda.cfg')"
   ]
  },
  {
   "cell_type": "code",
   "execution_count": 12,
   "metadata": {},
   "outputs": [
    {
     "name": "stdout",
     "output_type": "stream",
     "text": [
      "BID: 1.13960 | ASK: 1.13973\n",
      "BID: 1.13961 | ASK: 1.13974\n",
      "BID: 1.13965 | ASK: 1.13979\n",
      "BID: 1.13961 | ASK: 1.13974\n",
      "BID: 1.13958 | ASK: 1.13970\n"
     ]
    }
   ],
   "source": [
    "my_oanda.stream_data('EUR_USD', stop=5)"
   ]
  },
  {
   "cell_type": "markdown",
   "metadata": {},
   "source": [
    "## Other Methods"
   ]
  },
  {
   "cell_type": "markdown",
   "metadata": {},
   "source": [
    "Other major methods are:"
   ]
  },
  {
   "cell_type": "code",
   "execution_count": 13,
   "metadata": {},
   "outputs": [
    {
     "name": "stdout",
     "output_type": "stream",
     "text": [
      "Help on method create_order in module tpqoa.tpqoa:\n",
      "\n",
      "create_order(instrument, units, sl_distance=0.01) method of tpqoa.tpqoa.tpqoa instance\n",
      "    Places order with Oanda.\n",
      "    \n",
      "    Parameters\n",
      "    ==========\n",
      "    instrument: string\n",
      "        valid instrument name\n",
      "    units: int\n",
      "        number of units of instrument to be bought\n",
      "        (positive int, eg 'units=50')\n",
      "        or to be sold (negative int, eg 'units=-100')\n",
      "    sl_distance: float\n",
      "        stop loss distance price, mandatory eg in Germany\n",
      "\n"
     ]
    }
   ],
   "source": [
    "help(oanda.create_order)"
   ]
  },
  {
   "cell_type": "code",
   "execution_count": 14,
   "metadata": {},
   "outputs": [
    {
     "name": "stdout",
     "output_type": "stream",
     "text": [
      "\n",
      "\n",
      " {'id': '3279', 'time': '2019-01-18T08:28:16.376958880Z', 'userID': 5516121, 'accountID': '101-004-5516121-001', 'batchID': '3278', 'requestID': '42520741153607542', 'type': 'ORDER_FILL', 'orderID': '3278', 'instrument': 'EUR_USD', 'units': '10000.0', 'gainQuoteHomeConversionFactor': '0.877408486295', 'lossQuoteHomeConversionFactor': '0.877516277927', 'price': 1.13972, 'fullVWAP': 1.13972, 'fullPrice': {'type': 'PRICE', 'bids': [{'price': 1.13958, 'liquidity': '10000000'}], 'asks': [{'price': 1.13972, 'liquidity': '10000000'}], 'closeoutBid': 1.13943, 'closeoutAsk': 1.13987}, 'reason': 'MARKET_ORDER', 'pl': '0.0', 'financing': '0.0', 'commission': '0.0', 'guaranteedExecutionFee': '0.0', 'accountBalance': '97127.3433', 'tradeOpened': {'tradeID': '3279', 'units': '10000.0', 'price': 1.13972, 'guaranteedExecutionFee': '0.0', 'halfSpreadCost': '0.6142', 'initialMarginRequired': '333.0'}, 'halfSpreadCost': '0.6142'} \n",
      "\n"
     ]
    }
   ],
   "source": [
    "# going long 10,000 units\n",
    "# sl_distance of 20 pips\n",
    "oanda.create_order('EUR_USD', units=10000, sl_distance=0.002)"
   ]
  },
  {
   "cell_type": "code",
   "execution_count": 15,
   "metadata": {},
   "outputs": [
    {
     "name": "stdout",
     "output_type": "stream",
     "text": [
      "\n",
      "\n",
      " {'id': '3282', 'time': '2019-01-18T08:28:36.645117858Z', 'userID': 5516121, 'accountID': '101-004-5516121-001', 'batchID': '3281', 'requestID': '42520741237523586', 'type': 'ORDER_FILL', 'orderID': '3281', 'instrument': 'EUR_USD', 'units': '-10000.0', 'gainQuoteHomeConversionFactor': '0.877277632052', 'lossQuoteHomeConversionFactor': '0.87737769355', 'price': 1.13976, 'fullVWAP': 1.13976, 'fullPrice': {'type': 'PRICE', 'bids': [{'price': 1.13976, 'liquidity': '10000000'}], 'asks': [{'price': 1.13989, 'liquidity': '10000000'}], 'closeoutBid': 1.13961, 'closeoutAsk': 1.14004}, 'reason': 'MARKET_ORDER', 'pl': '0.3509', 'financing': '-0.0003', 'commission': '0.0', 'guaranteedExecutionFee': '0.0', 'accountBalance': '97127.6939', 'tradesClosed': [{'tradeID': '3279', 'units': '-10000.0', 'price': 1.13976, 'realizedPL': '0.3509', 'financing': '-0.0003', 'guaranteedExecutionFee': '0.0', 'halfSpreadCost': '0.5703'}], 'halfSpreadCost': '0.5703'} \n",
      "\n"
     ]
    }
   ],
   "source": [
    "# closing out the position\n",
    "oanda.create_order('EUR_USD', units=-10000)"
   ]
  },
  {
   "cell_type": "code",
   "execution_count": 16,
   "metadata": {
    "scrolled": true
   },
   "outputs": [
    {
     "name": "stdout",
     "output_type": "stream",
     "text": [
      "Help on method get_account_summary in module tpqoa.tpqoa:\n",
      "\n",
      "get_account_summary(detailed=False) method of tpqoa.tpqoa.tpqoa instance\n",
      "    Returns summary data for Oanda account.\n",
      "\n"
     ]
    }
   ],
   "source": [
    "help(oanda.get_account_summary)"
   ]
  },
  {
   "cell_type": "code",
   "execution_count": 17,
   "metadata": {},
   "outputs": [
    {
     "name": "stdout",
     "output_type": "stream",
     "text": [
      "Help on method get_transactions in module tpqoa.tpqoa:\n",
      "\n",
      "get_transactions(tid=0) method of tpqoa.tpqoa.tpqoa instance\n",
      "    Retrieves and returns transactions data.\n",
      "\n"
     ]
    }
   ],
   "source": [
    "help(oanda.get_transactions)"
   ]
  },
  {
   "cell_type": "code",
   "execution_count": 18,
   "metadata": {},
   "outputs": [
    {
     "name": "stdout",
     "output_type": "stream",
     "text": [
      "Help on method print_transactions in module tpqoa.tpqoa:\n",
      "\n",
      "print_transactions(tid=0) method of tpqoa.tpqoa.tpqoa instance\n",
      "    Prints basic transactions data.\n",
      "\n"
     ]
    }
   ],
   "source": [
    "help(oanda.print_transactions)"
   ]
  },
  {
   "cell_type": "code",
   "execution_count": 19,
   "metadata": {},
   "outputs": [
    {
     "name": "stdout",
     "output_type": "stream",
     "text": [
      " 3273 | 2019-01-18T08:24:37.037381266Z |   EUR_USD |         10.0 |      0.0\n",
      " 3276 | 2019-01-18T08:26:03.380025696Z |   EUR_USD |        -10.0 |  -0.0022\n",
      " 3279 | 2019-01-18T08:28:16.376958880Z |   EUR_USD |      10000.0 |      0.0\n",
      " 3282 | 2019-01-18T08:28:36.645117858Z |   EUR_USD |     -10000.0 |   0.3509\n"
     ]
    }
   ],
   "source": [
    "oanda.print_transactions(tid=3272)"
   ]
  },
  {
   "cell_type": "markdown",
   "metadata": {
    "slideshow": {
     "slide_type": "slide"
    }
   },
   "source": [
    "<img src=\"http://hilpisch.com/tpq_logo.png\" alt=\"The Python Quants\" width=\"35%\" align=\"right\" border=\"0\"><br>\n",
    "\n",
    "<a href=\"http://tpq.io\" target=\"_blank\">http://tpq.io</a> | <a href=\"http://twitter.com/dyjh\" target=\"_blank\">@dyjh</a> | <a href=\"mailto:training@tpq.io\">training@tpq.io</a>"
   ]
  }
 ],
 "metadata": {
  "anaconda-cloud": {},
  "kernelspec": {
   "display_name": "Python 3",
   "language": "python",
   "name": "python3"
  },
  "language_info": {
   "codemirror_mode": {
    "name": "ipython",
    "version": 3
   },
   "file_extension": ".py",
   "mimetype": "text/x-python",
   "name": "python",
   "nbconvert_exporter": "python",
   "pygments_lexer": "ipython3",
   "version": "3.6.7"
  }
 },
 "nbformat": 4,
 "nbformat_minor": 1
}
